{
 "cells": [
  {
   "cell_type": "markdown",
   "id": "1021d47b",
   "metadata": {},
   "source": [
    "## Measures of Central Tendency"
   ]
  },
  {
   "cell_type": "code",
   "execution_count": 22,
   "id": "216ea0d9",
   "metadata": {},
   "outputs": [],
   "source": [
    "s1 = [17,4,33,2,51,23,3,41,18,2,4,2]"
   ]
  },
  {
   "cell_type": "code",
   "execution_count": 2,
   "id": "3578b355",
   "metadata": {},
   "outputs": [
    {
     "data": {
      "text/plain": [
       "16.666666666666668"
      ]
     },
     "execution_count": 2,
     "metadata": {},
     "output_type": "execute_result"
    }
   ],
   "source": [
    "#mean \n",
    "sum(s1)/len(s1)"
   ]
  },
  {
   "cell_type": "code",
   "execution_count": 42,
   "id": "e7e7a271",
   "metadata": {},
   "outputs": [],
   "source": [
    "from statistics import mean, median, mode"
   ]
  },
  {
   "cell_type": "code",
   "execution_count": 4,
   "id": "c2c2590e",
   "metadata": {},
   "outputs": [
    {
     "name": "stdout",
     "output_type": "stream",
     "text": [
      "16.666666666666668\n"
     ]
    }
   ],
   "source": [
    "print(mean(s1))"
   ]
  },
  {
   "cell_type": "code",
   "execution_count": 5,
   "id": "ba264669",
   "metadata": {},
   "outputs": [
    {
     "data": {
      "text/plain": [
       "12"
      ]
     },
     "execution_count": 5,
     "metadata": {},
     "output_type": "execute_result"
    }
   ],
   "source": [
    "len(s1)"
   ]
  },
  {
   "cell_type": "code",
   "execution_count": 6,
   "id": "916cad62",
   "metadata": {},
   "outputs": [],
   "source": [
    "s1.sort()"
   ]
  },
  {
   "cell_type": "code",
   "execution_count": 7,
   "id": "97053aca",
   "metadata": {},
   "outputs": [
    {
     "data": {
      "text/plain": [
       "[2, 2, 2, 3, 4, 4, 17, 18, 23, 33, 41, 51]"
      ]
     },
     "execution_count": 7,
     "metadata": {},
     "output_type": "execute_result"
    }
   ],
   "source": [
    "s1"
   ]
  },
  {
   "cell_type": "code",
   "execution_count": 12,
   "id": "c94ebabf",
   "metadata": {},
   "outputs": [],
   "source": [
    "n = len(s1)"
   ]
  },
  {
   "cell_type": "code",
   "execution_count": 11,
   "id": "ada70887",
   "metadata": {},
   "outputs": [
    {
     "name": "stdout",
     "output_type": "stream",
     "text": [
      "4\n",
      "17\n"
     ]
    }
   ],
   "source": [
    "mid1 = s1[int((len(s1)/2)-1)]\n",
    "mid2 = s1[int((len(s1)/2))]\n",
    "\n",
    "print(mid1)\n",
    "print(mid2)"
   ]
  },
  {
   "cell_type": "code",
   "execution_count": 13,
   "id": "8c6597a6",
   "metadata": {},
   "outputs": [
    {
     "name": "stdout",
     "output_type": "stream",
     "text": [
      "17\n",
      "4\n"
     ]
    }
   ],
   "source": [
    "mid1 = s1[n//2]\n",
    "mid2 = s1[n//2 - 1]\n",
    "\n",
    "print(mid1)\n",
    "print(mid2)"
   ]
  },
  {
   "cell_type": "code",
   "execution_count": 14,
   "id": "9851ab52",
   "metadata": {},
   "outputs": [],
   "source": [
    "median = (mid1+mid2)/2"
   ]
  },
  {
   "cell_type": "code",
   "execution_count": 15,
   "id": "49aa9c1f",
   "metadata": {},
   "outputs": [
    {
     "name": "stdout",
     "output_type": "stream",
     "text": [
      "10.5\n"
     ]
    }
   ],
   "source": [
    "print(median)"
   ]
  },
  {
   "cell_type": "code",
   "execution_count": 17,
   "id": "3b27188c",
   "metadata": {},
   "outputs": [
    {
     "name": "stdout",
     "output_type": "stream",
     "text": [
      "10.5\n"
     ]
    }
   ],
   "source": [
    "print(median(s1))"
   ]
  },
  {
   "cell_type": "code",
   "execution_count": 18,
   "id": "49815fe5",
   "metadata": {},
   "outputs": [],
   "source": [
    "s2 = [1,5,7,3,0]"
   ]
  },
  {
   "cell_type": "code",
   "execution_count": 19,
   "id": "4f913544",
   "metadata": {},
   "outputs": [
    {
     "data": {
      "text/plain": [
       "[0, 1, 3, 5, 7]"
      ]
     },
     "execution_count": 19,
     "metadata": {},
     "output_type": "execute_result"
    }
   ],
   "source": [
    "s2.sort()\n",
    "s2"
   ]
  },
  {
   "cell_type": "code",
   "execution_count": 20,
   "id": "6113a2ce",
   "metadata": {},
   "outputs": [],
   "source": [
    "median = s2[len(s2)//2]"
   ]
  },
  {
   "cell_type": "code",
   "execution_count": 21,
   "id": "c991d4de",
   "metadata": {},
   "outputs": [
    {
     "data": {
      "text/plain": [
       "3"
      ]
     },
     "execution_count": 21,
     "metadata": {},
     "output_type": "execute_result"
    }
   ],
   "source": [
    "median"
   ]
  },
  {
   "cell_type": "code",
   "execution_count": 23,
   "id": "75a87f46",
   "metadata": {},
   "outputs": [],
   "source": [
    "from collections import Counter"
   ]
  },
  {
   "cell_type": "code",
   "execution_count": 24,
   "id": "795d588d",
   "metadata": {},
   "outputs": [],
   "source": [
    "c = Counter(s1)"
   ]
  },
  {
   "cell_type": "code",
   "execution_count": 25,
   "id": "1297b3d2",
   "metadata": {},
   "outputs": [
    {
     "data": {
      "text/plain": [
       "Counter({17: 1, 4: 2, 33: 1, 2: 3, 51: 1, 23: 1, 3: 1, 41: 1, 18: 1})"
      ]
     },
     "execution_count": 25,
     "metadata": {},
     "output_type": "execute_result"
    }
   ],
   "source": [
    "c"
   ]
  },
  {
   "cell_type": "code",
   "execution_count": 26,
   "id": "52c6e883",
   "metadata": {},
   "outputs": [
    {
     "data": {
      "text/plain": [
       "[2]"
      ]
     },
     "execution_count": 26,
     "metadata": {},
     "output_type": "execute_result"
    }
   ],
   "source": [
    "mode = [k for k,v in c.items() if v == c.most_common(1)[0][1]]\n",
    "mode"
   ]
  },
  {
   "cell_type": "code",
   "execution_count": 27,
   "id": "09aa246c",
   "metadata": {},
   "outputs": [
    {
     "data": {
      "text/plain": [
       "dict_items([(17, 1), (4, 2), (33, 1), (2, 3), (51, 1), (23, 1), (3, 1), (41, 1), (18, 1)])"
      ]
     },
     "execution_count": 27,
     "metadata": {},
     "output_type": "execute_result"
    }
   ],
   "source": [
    "c.items()"
   ]
  },
  {
   "cell_type": "code",
   "execution_count": 38,
   "id": "428add10",
   "metadata": {},
   "outputs": [
    {
     "data": {
      "text/plain": [
       "[(2, 3)]"
      ]
     },
     "execution_count": 38,
     "metadata": {},
     "output_type": "execute_result"
    }
   ],
   "source": [
    "c.most_common(1)"
   ]
  },
  {
   "cell_type": "code",
   "execution_count": 35,
   "id": "52401fee",
   "metadata": {},
   "outputs": [
    {
     "data": {
      "text/plain": [
       "3"
      ]
     },
     "execution_count": 35,
     "metadata": {},
     "output_type": "execute_result"
    }
   ],
   "source": [
    "c.most_common(1)[0][1]"
   ]
  },
  {
   "cell_type": "code",
   "execution_count": 36,
   "id": "49e90813",
   "metadata": {},
   "outputs": [
    {
     "name": "stdout",
     "output_type": "stream",
     "text": [
      "2\n"
     ]
    }
   ],
   "source": [
    "for k,v in c.items():\n",
    "    if v == c.most_common(1)[0][1]:\n",
    "        print(k)"
   ]
  },
  {
   "cell_type": "code",
   "execution_count": 39,
   "id": "12b0556a",
   "metadata": {},
   "outputs": [],
   "source": [
    "s3 = [1,1,1,2,2,2,5,5,6,7,8,8,8]"
   ]
  },
  {
   "cell_type": "code",
   "execution_count": 40,
   "id": "cc74c4e3",
   "metadata": {},
   "outputs": [],
   "source": [
    "c3 = Counter(s3)"
   ]
  },
  {
   "cell_type": "code",
   "execution_count": 41,
   "id": "657596c6",
   "metadata": {},
   "outputs": [
    {
     "data": {
      "text/plain": [
       "[1, 2, 8]"
      ]
     },
     "execution_count": 41,
     "metadata": {},
     "output_type": "execute_result"
    }
   ],
   "source": [
    "mode = [k for k,v in c3.items() if v == c3.most_common(1)[0][1]]\n",
    "mode"
   ]
  },
  {
   "cell_type": "code",
   "execution_count": 43,
   "id": "10598310",
   "metadata": {},
   "outputs": [
    {
     "name": "stdout",
     "output_type": "stream",
     "text": [
      "2\n"
     ]
    }
   ],
   "source": [
    "print(mode(s1))"
   ]
  },
  {
   "cell_type": "code",
   "execution_count": 44,
   "id": "73287ab8",
   "metadata": {},
   "outputs": [
    {
     "data": {
      "text/plain": [
       "2"
      ]
     },
     "execution_count": 44,
     "metadata": {},
     "output_type": "execute_result"
    }
   ],
   "source": [
    "min(s1)"
   ]
  },
  {
   "cell_type": "code",
   "execution_count": 45,
   "id": "91701541",
   "metadata": {},
   "outputs": [
    {
     "data": {
      "text/plain": [
       "51"
      ]
     },
     "execution_count": 45,
     "metadata": {},
     "output_type": "execute_result"
    }
   ],
   "source": [
    "max(s1)"
   ]
  },
  {
   "cell_type": "code",
   "execution_count": 46,
   "id": "e1d7a8ff",
   "metadata": {},
   "outputs": [],
   "source": [
    "import pandas as pd"
   ]
  },
  {
   "cell_type": "code",
   "execution_count": 47,
   "id": "1bdccc4b",
   "metadata": {},
   "outputs": [],
   "source": [
    "df = pd.read_excel('data.xlsx',sheet_name = 'Amount')"
   ]
  },
  {
   "cell_type": "code",
   "execution_count": 48,
   "id": "e3f3070e",
   "metadata": {},
   "outputs": [
    {
     "data": {
      "text/plain": [
       "(350, 1)"
      ]
     },
     "execution_count": 48,
     "metadata": {},
     "output_type": "execute_result"
    }
   ],
   "source": [
    "df.shape"
   ]
  },
  {
   "cell_type": "code",
   "execution_count": 49,
   "id": "d6a6d2f6",
   "metadata": {},
   "outputs": [
    {
     "data": {
      "text/html": [
       "<div>\n",
       "<style scoped>\n",
       "    .dataframe tbody tr th:only-of-type {\n",
       "        vertical-align: middle;\n",
       "    }\n",
       "\n",
       "    .dataframe tbody tr th {\n",
       "        vertical-align: top;\n",
       "    }\n",
       "\n",
       "    .dataframe thead th {\n",
       "        text-align: right;\n",
       "    }\n",
       "</style>\n",
       "<table border=\"1\" class=\"dataframe\">\n",
       "  <thead>\n",
       "    <tr style=\"text-align: right;\">\n",
       "      <th></th>\n",
       "      <th>Fr &amp; Veg</th>\n",
       "    </tr>\n",
       "  </thead>\n",
       "  <tbody>\n",
       "    <tr>\n",
       "      <th>0</th>\n",
       "      <td>625</td>\n",
       "    </tr>\n",
       "    <tr>\n",
       "      <th>1</th>\n",
       "      <td>354</td>\n",
       "    </tr>\n",
       "    <tr>\n",
       "      <th>2</th>\n",
       "      <td>577</td>\n",
       "    </tr>\n",
       "    <tr>\n",
       "      <th>3</th>\n",
       "      <td>570</td>\n",
       "    </tr>\n",
       "    <tr>\n",
       "      <th>4</th>\n",
       "      <td>664</td>\n",
       "    </tr>\n",
       "  </tbody>\n",
       "</table>\n",
       "</div>"
      ],
      "text/plain": [
       "   Fr & Veg\n",
       "0       625\n",
       "1       354\n",
       "2       577\n",
       "3       570\n",
       "4       664"
      ]
     },
     "execution_count": 49,
     "metadata": {},
     "output_type": "execute_result"
    }
   ],
   "source": [
    "df.head()"
   ]
  },
  {
   "cell_type": "code",
   "execution_count": 50,
   "id": "792adb10",
   "metadata": {},
   "outputs": [
    {
     "data": {
      "text/plain": [
       "Fr & Veg    519.2\n",
       "dtype: float64"
      ]
     },
     "execution_count": 50,
     "metadata": {},
     "output_type": "execute_result"
    }
   ],
   "source": [
    "df.mean()"
   ]
  },
  {
   "cell_type": "code",
   "execution_count": 51,
   "id": "b42f44f3",
   "metadata": {},
   "outputs": [
    {
     "data": {
      "text/plain": [
       "Fr & Veg    523.0\n",
       "dtype: float64"
      ]
     },
     "execution_count": 51,
     "metadata": {},
     "output_type": "execute_result"
    }
   ],
   "source": [
    "df.median()"
   ]
  },
  {
   "cell_type": "code",
   "execution_count": 52,
   "id": "3a12286e",
   "metadata": {},
   "outputs": [
    {
     "data": {
      "text/html": [
       "<div>\n",
       "<style scoped>\n",
       "    .dataframe tbody tr th:only-of-type {\n",
       "        vertical-align: middle;\n",
       "    }\n",
       "\n",
       "    .dataframe tbody tr th {\n",
       "        vertical-align: top;\n",
       "    }\n",
       "\n",
       "    .dataframe thead th {\n",
       "        text-align: right;\n",
       "    }\n",
       "</style>\n",
       "<table border=\"1\" class=\"dataframe\">\n",
       "  <thead>\n",
       "    <tr style=\"text-align: right;\">\n",
       "      <th></th>\n",
       "      <th>Fr &amp; Veg</th>\n",
       "    </tr>\n",
       "  </thead>\n",
       "  <tbody>\n",
       "    <tr>\n",
       "      <th>0</th>\n",
       "      <td>459</td>\n",
       "    </tr>\n",
       "    <tr>\n",
       "      <th>1</th>\n",
       "      <td>492</td>\n",
       "    </tr>\n",
       "    <tr>\n",
       "      <th>2</th>\n",
       "      <td>511</td>\n",
       "    </tr>\n",
       "    <tr>\n",
       "      <th>3</th>\n",
       "      <td>544</td>\n",
       "    </tr>\n",
       "    <tr>\n",
       "      <th>4</th>\n",
       "      <td>584</td>\n",
       "    </tr>\n",
       "    <tr>\n",
       "      <th>5</th>\n",
       "      <td>606</td>\n",
       "    </tr>\n",
       "  </tbody>\n",
       "</table>\n",
       "</div>"
      ],
      "text/plain": [
       "   Fr & Veg\n",
       "0       459\n",
       "1       492\n",
       "2       511\n",
       "3       544\n",
       "4       584\n",
       "5       606"
      ]
     },
     "execution_count": 52,
     "metadata": {},
     "output_type": "execute_result"
    }
   ],
   "source": [
    "df.mode()"
   ]
  },
  {
   "cell_type": "code",
   "execution_count": 58,
   "id": "300160f5",
   "metadata": {},
   "outputs": [
    {
     "data": {
      "text/plain": [
       "511    4\n",
       "584    4\n",
       "492    4\n",
       "459    4\n",
       "606    4\n",
       "544    4\n",
       "Name: Fr & Veg, dtype: int64"
      ]
     },
     "execution_count": 58,
     "metadata": {},
     "output_type": "execute_result"
    }
   ],
   "source": [
    "df['Fr & Veg'].value_counts().head(6)"
   ]
  },
  {
   "cell_type": "code",
   "execution_count": 61,
   "id": "996f7023",
   "metadata": {},
   "outputs": [
    {
     "data": {
      "text/plain": [
       "Fr & Veg    163\n",
       "dtype: int64"
      ]
     },
     "execution_count": 61,
     "metadata": {},
     "output_type": "execute_result"
    }
   ],
   "source": [
    "df.min()"
   ]
  },
  {
   "cell_type": "code",
   "execution_count": 62,
   "id": "49bb6e93",
   "metadata": {},
   "outputs": [
    {
     "data": {
      "text/plain": [
       "Fr & Veg    841\n",
       "dtype: int64"
      ]
     },
     "execution_count": 62,
     "metadata": {},
     "output_type": "execute_result"
    }
   ],
   "source": [
    "df.max()"
   ]
  },
  {
   "cell_type": "markdown",
   "id": "793dae27",
   "metadata": {},
   "source": [
    "## Measures of Dispersion"
   ]
  },
  {
   "cell_type": "code",
   "execution_count": 59,
   "id": "9880d1dc",
   "metadata": {},
   "outputs": [
    {
     "data": {
      "text/plain": [
       "<AxesSubplot:ylabel='Frequency'>"
      ]
     },
     "execution_count": 59,
     "metadata": {},
     "output_type": "execute_result"
    },
    {
     "data": {
      "image/png": "[encoded data removed]",
      "text/plain": [
       "<Figure size 432x288 with 1 Axes>"
      ]
     },
     "metadata": {
      "needs_background": "light"
     },
     "output_type": "display_data"
    }
   ],
   "source": [
    "df.plot.hist(by='Fr & Veg')"
   ]
  },
  {
   "cell_type": "code",
   "execution_count": 60,
   "id": "af4d5bb2",
   "metadata": {},
   "outputs": [
    {
     "data": {
      "text/plain": [
       "Fr & Veg    15054.26361\n",
       "dtype: float64"
      ]
     },
     "execution_count": 60,
     "metadata": {},
     "output_type": "execute_result"
    }
   ],
   "source": [
    "df.var()"
   ]
  },
  {
   "cell_type": "code",
   "execution_count": 64,
   "id": "07abc2c8",
   "metadata": {},
   "outputs": [
    {
     "data": {
      "text/plain": [
       "Fr & Veg    122.695817\n",
       "dtype: float64"
      ]
     },
     "execution_count": 64,
     "metadata": {},
     "output_type": "execute_result"
    }
   ],
   "source": [
    "df.std()"
   ]
  },
  {
   "cell_type": "code",
   "execution_count": 65,
   "id": "883855b1",
   "metadata": {},
   "outputs": [
    {
     "data": {
      "text/plain": [
       "Fr & Veg    678\n",
       "dtype: int64"
      ]
     },
     "execution_count": 65,
     "metadata": {},
     "output_type": "execute_result"
    }
   ],
   "source": [
    "df.max() - df.min()"
   ]
  },
  {
   "cell_type": "code",
   "execution_count": 66,
   "id": "c1be781d",
   "metadata": {},
   "outputs": [
    {
     "data": {
      "text/plain": [
       "Fr & Veg    444.75\n",
       "Name: 0.25, dtype: float64"
      ]
     },
     "execution_count": 66,
     "metadata": {},
     "output_type": "execute_result"
    }
   ],
   "source": [
    "df.quantile(0.25)"
   ]
  },
  {
   "cell_type": "code",
   "execution_count": 67,
   "id": "97482c7d",
   "metadata": {},
   "outputs": [
    {
     "data": {
      "text/plain": [
       "Fr & Veg    523.0\n",
       "Name: 0.5, dtype: float64"
      ]
     },
     "execution_count": 67,
     "metadata": {},
     "output_type": "execute_result"
    }
   ],
   "source": [
    "df.quantile(0.50)"
   ]
  },
  {
   "cell_type": "code",
   "execution_count": 70,
   "id": "0f497446",
   "metadata": {},
   "outputs": [
    {
     "data": {
      "text/plain": [
       "Fr & Veg    603.5\n",
       "Name: 0.75, dtype: float64"
      ]
     },
     "execution_count": 70,
     "metadata": {},
     "output_type": "execute_result"
    }
   ],
   "source": [
    "df.quantile(0.75)"
   ]
  },
  {
   "cell_type": "code",
   "execution_count": 71,
   "id": "c6337f01",
   "metadata": {},
   "outputs": [
    {
     "data": {
      "text/plain": [
       "Fr & Veg    158.75\n",
       "dtype: float64"
      ]
     },
     "execution_count": 71,
     "metadata": {},
     "output_type": "execute_result"
    }
   ],
   "source": [
    "df.quantile(0.75) - df.quantile(0.25)"
   ]
  },
  {
   "cell_type": "markdown",
   "id": "95c7c765",
   "metadata": {},
   "source": [
    "## Measures of Shape"
   ]
  },
  {
   "cell_type": "code",
   "execution_count": 63,
   "id": "05e0e402",
   "metadata": {},
   "outputs": [
    {
     "data": {
      "text/plain": [
       "Fr & Veg   -0.044772\n",
       "dtype: float64"
      ]
     },
     "execution_count": 63,
     "metadata": {},
     "output_type": "execute_result"
    }
   ],
   "source": [
    "df.skew()"
   ]
  },
  {
   "cell_type": "code",
   "execution_count": 72,
   "id": "e19b46bd",
   "metadata": {},
   "outputs": [],
   "source": [
    "from scipy.stats import kurtosis"
   ]
  },
  {
   "cell_type": "code",
   "execution_count": 74,
   "id": "6a908e5f",
   "metadata": {},
   "outputs": [
    {
     "data": {
      "text/plain": [
       "-0.12906876782921373"
      ]
     },
     "execution_count": 74,
     "metadata": {},
     "output_type": "execute_result"
    }
   ],
   "source": [
    "kurtosis(df['Fr & Veg'])"
   ]
  },
  {
   "cell_type": "code",
   "execution_count": null,
   "id": "341ed27d",
   "metadata": {},
   "outputs": [],
   "source": []
  },
  {
   "cell_type": "code",
   "execution_count": null,
   "id": "da9fc1a2",
   "metadata": {},
   "outputs": [],
   "source": []
  },
  {
   "cell_type": "code",
   "execution_count": null,
   "id": "0c54174f",
   "metadata": {},
   "outputs": [],
   "source": []
  },
  {
   "cell_type": "code",
   "execution_count": null,
   "id": "f330068a",
   "metadata": {},
   "outputs": [],
   "source": []
  }
 ],
 "metadata": {
  "kernelspec": {
   "display_name": "Python 3",
   "language": "python",
   "name": "python3"
  },
  "language_info": {
   "codemirror_mode": {
    "name": "ipython",
    "version": 3
   },
   "file_extension": ".py",
   "mimetype": "text/x-python",
   "name": "python",
   "nbconvert_exporter": "python",
   "pygments_lexer": "ipython3",
   "version": "3.8.8"
  }
 },
 "nbformat": 4,
 "nbformat_minor": 5
}
